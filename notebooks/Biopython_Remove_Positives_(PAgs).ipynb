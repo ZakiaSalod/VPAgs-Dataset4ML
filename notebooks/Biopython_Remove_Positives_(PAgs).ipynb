{
  "nbformat": 4,
  "nbformat_minor": 0,
  "metadata": {
    "colab": {
      "provenance": [],
      "collapsed_sections": []
    },
    "kernelspec": {
      "name": "python3",
      "display_name": "Python 3"
    },
    "language_info": {
      "name": "python"
    }
  },
  "cells": [
    {
      "cell_type": "markdown",
      "source": [
        "Bismillahir Rahmaanir Raheem <br>\n",
        "Almadadh Ya Gause Radi Allahu Ta'alah Anh - Ameen"
      ],
      "metadata": {
        "id": "beaL45XVZriH"
      }
    },
    {
      "cell_type": "code",
      "source": [
        "!pip install Bio"
      ],
      "metadata": {
        "id": "yzS1-UtjaZM9"
      },
      "execution_count": null,
      "outputs": []
    },
    {
      "cell_type": "code",
      "execution_count": null,
      "metadata": {
        "id": "xjvlsYcoZbrc"
      },
      "outputs": [],
      "source": [
        "import pandas as pd\n",
        "from Bio import SeqIO"
      ]
    },
    {
      "cell_type": "code",
      "source": [
        "count = 0\n",
        "negative_file = \"negative.fasta\" # write to this file and export this file\n",
        "with open(negative_file, \"w\") as f_out:\n",
        "  for seq_record in SeqIO.parse(\"combined_mmseqs2.fasta_rep_seq.fasta\", \"fasta\"): # this file has 2088 records\n",
        "    if ((seq_record.description.find(\"Protegen\")==-1) and (seq_record.description.find(\"sp|P08668|GP_HANTV\")==-1) and\n",
        "            (seq_record.description.find(\"sp|Q3I5I7|NCAP_BCRP3\")==-1) and (seq_record.description.find(\"sp|P0C6M5|LHDAG_HDVU2\")==-1) and\n",
        "            (seq_record.description.find(\"tr|Q76PF0|Q76PF0_9ALPH\")==-1) and (seq_record.description.find(\"sp|P04195|CAHH_VACCW\")==-1) and\n",
        "            (seq_record.description.find(\"sp|P07242|H5_VACCW\")==-1) and  (seq_record.description.find(\"tr|D3XDS5|D3XDS5_MUHVS\")==-1) and\n",
        "            (seq_record.description.find(\"sp|P52514|GL_MUHVS\")==-1) and (seq_record.description.find(\"sp|Q69150|GN_MUHVS\")==-1) and \n",
        "            (seq_record.description.find(\"sp|P11210|VIE1_MUHVS\")==-1) and (seq_record.description.find(\"tr|Q29SK1|Q29SK1_9INFA\")==-1) and\n",
        "            (seq_record.description.find(\"tr|Q29SL8|Q29SL8_9INFA\")==-1) and (seq_record.description.find(\"sp|Q89462|NCAP_SINV\")==-1) and \n",
        "            (seq_record.description.find(\"sp|Q89462|NCAP_SINV Nucleoprotein\")==-1) and (seq_record.description.find(\"tr|A0A0N7CW72|A0A0N7CW72_AHSV4\")==-1) and \n",
        "            (seq_record.description.find(\"tr|B9VXH6|B9VXH6_HCMVT\")==-1) and (seq_record.description.find(\"tr|K9L8N8|K9L8N8_9PICO\")==-1) and\n",
        "            (seq_record.description.find(\"sp|P06821|M2_I34A1\")==-1) and (seq_record.description.find(\"sp|P68596|A30_VACCW\")==-1) and \n",
        "            (seq_record.description.find(\"sp|P24761|A34_VACCW\")==-1) and (seq_record.description.find(\"sp|P68619|A36_VACCW\")==-1) and \n",
        "            (seq_record.description.find(\"sp|Q05322|VP24_EBOZM\")==-1) and (seq_record.description.find(\"sp|P33454|PHOSP_BRSVA\")==-1)): \n",
        "      # if the sequence does Not have the word \"Protegen\", and does Not have the headers specified above, \n",
        "      #then write to file. Note that if the sequence has the word \"Protegen\", and those headers above, this means it is a PAg \n",
        "      #(protective antigen) aka positive data, which we do Not want. We want to exclude the PAgs\n",
        "      #Note that the abovementioned headers were found using this script ---> Biopython_Remove_Positives_(PAgs)_Helper.ipynb\n",
        "      write_seq = SeqIO.write(seq_record, f_out, \"fasta\") # 2088 - 131 (protegen) and the headers above (22) = 1935\n",
        "      count+=1\n",
        "print(\"Total negative records = \" + str(count))"
      ],
      "metadata": {
        "id": "fyYsELCAaOF-"
      },
      "execution_count": null,
      "outputs": []
    }
  ]
}